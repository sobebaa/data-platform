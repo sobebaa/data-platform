{
 "cells": [
  {
   "cell_type": "code",
   "execution_count": 1,
   "id": "d652dd05",
   "metadata": {},
   "outputs": [
    {
     "name": "stdout",
     "output_type": "stream",
     "text": [
      "Файл kezekte_school_dummy.csv успешно сохранён!\n"
     ]
    }
   ],
   "source": [
    "\n",
    "import pandas as pd\n",
    "import numpy as np\n",
    "from faker import Faker\n",
    "import random\n",
    "\n",
    "fake = Faker('ru_RU')\n",
    "Faker.seed(42)\n",
    "np.random.seed(42)\n",
    "random.seed(42)\n",
    "\n",
    "n_rows = 10000\n",
    "\n",
    "services = [\"Зачисление в 1 класс\", \"Перевод из другой школы\", \"Запрос справки\", \"Запись в продлёнку\"]\n",
    "institutions = [f\"Школа-лицей №{i}\" for i in range(1, 11)]\n",
    "regions = [\"г. Астана\", \"г. Алматы\", \"Карагандинская\", \"Туркестанская\", \"Алматинская\", \"Актюбинская\"]\n",
    "statuses = [\"Записан\", \"Отменено\", \"Обслужен\"]\n",
    "genders = [\"М\", \"Ж\"]\n",
    "channels = [\"Веб\", \"Мобильное приложение\", \"КИОСК\", \"Через школу\"]\n",
    "cancellation_reasons = [\"По желанию\", \"Системная ошибка\", \"Не явился\", \"Отменено учреждением\", \"\"]\n",
    "org_types = [\"Школа\", \"Школа-лицей\", \"Гимназия\"]\n",
    "\n",
    "data = []\n",
    "\n",
    "for i in range(1, n_rows + 1):\n",
    "    date_applied = fake.date_between(start_date='-1y', end_date='today')\n",
    "    time_applied = fake.time(pattern=\"%H:%M\")\n",
    "    service = random.choice(services)\n",
    "    institution = random.choice(institutions)\n",
    "    region = random.choice(regions)\n",
    "    status = random.choices(statuses, weights=[0.3, 0.2, 0.5])[0]\n",
    "    age = random.randint(6, 17)\n",
    "    gender = random.choice(genders)\n",
    "    channel = random.choice(channels)\n",
    "    visit_date = date_applied if status == \"Обслужен\" else None\n",
    "    attended = \"Да\" if status == \"Обслужен\" else random.choice([\"Нет\", \"Да\"])\n",
    "    cancel_reason = random.choice(cancellation_reasons) if status == \"Отменено\" else \"\"\n",
    "    org_type = random.choice(org_types)\n",
    "\n",
    "    row = [\n",
    "        i, date_applied, time_applied, service, institution, region, status,\n",
    "        age, gender, channel, visit_date, attended, cancel_reason, org_type\n",
    "    ]\n",
    "    data.append(row)\n",
    "\n",
    "columns = [\n",
    "    \"ID\", \"Дата записи\", \"Время записи\", \"Услуга\", \"Учреждение\", \"Регион\", \"Статус\",\n",
    "    \"Возраст ученика\", \"Пол ученика\", \"Канал записи\", \"Дата визита\", \"Явился\", \"Причина отмены\", \"Тип учреждения\"\n",
    "]\n",
    "\n",
    "df = pd.DataFrame(data, columns=columns)\n",
    "df.to_csv(\"kezekte_school_dummy.csv\", index=False, encoding='utf-8-sig')\n",
    "print(\"Файл kezekte_school_dummy.csv успешно сохранён!\")\n"
   ]
  },
  {
   "cell_type": "code",
   "execution_count": null,
   "id": "f7beb94f",
   "metadata": {},
   "outputs": [],
   "source": []
  }
 ],
 "metadata": {
  "kernelspec": {
   "display_name": "Python 3",
   "language": "python",
   "name": "python3"
  },
  "language_info": {
   "codemirror_mode": {
    "name": "ipython",
    "version": 3
   },
   "file_extension": ".py",
   "mimetype": "text/x-python",
   "name": "python",
   "nbconvert_exporter": "python",
   "pygments_lexer": "ipython3",
   "version": "3.11.9"
  }
 },
 "nbformat": 4,
 "nbformat_minor": 5
}
